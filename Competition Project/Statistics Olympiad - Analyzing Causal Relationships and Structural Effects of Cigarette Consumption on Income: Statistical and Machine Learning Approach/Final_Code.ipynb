{
 "cells": [
  {
   "cell_type": "markdown",
   "metadata": {},
   "source": [
    "# **FINAL OF RASIO 2024**"
   ]
  },
  {
   "cell_type": "markdown",
   "metadata": {},
   "source": [
    "---"
   ]
  },
  {
   "cell_type": "code",
   "execution_count": 1,
   "metadata": {},
   "outputs": [],
   "source": [
    "import pandas as pd\n",
    "import numpy as np"
   ]
  },
  {
   "cell_type": "code",
   "execution_count": 2,
   "metadata": {},
   "outputs": [],
   "source": [
    "import seaborn as sns\n",
    "import matplotlib.pyplot as plt"
   ]
  },
  {
   "cell_type": "markdown",
   "metadata": {},
   "source": [
    "---"
   ]
  },
  {
   "cell_type": "code",
   "execution_count": 3,
   "metadata": {},
   "outputs": [
    {
     "data": {
      "text/html": [
       "<div>\n",
       "<style scoped>\n",
       "    .dataframe tbody tr th:only-of-type {\n",
       "        vertical-align: middle;\n",
       "    }\n",
       "\n",
       "    .dataframe tbody tr th {\n",
       "        vertical-align: top;\n",
       "    }\n",
       "\n",
       "    .dataframe thead th {\n",
       "        text-align: right;\n",
       "    }\n",
       "</style>\n",
       "<table border=\"1\" class=\"dataframe\">\n",
       "  <thead>\n",
       "    <tr style=\"text-align: right;\">\n",
       "      <th></th>\n",
       "      <th>no</th>\n",
       "      <th>CigCon</th>\n",
       "      <th>YoS</th>\n",
       "      <th>Age</th>\n",
       "      <th>Linc</th>\n",
       "      <th>Sex</th>\n",
       "      <th>CigPri</th>\n",
       "      <th>LCigPri</th>\n",
       "      <th>CigRes</th>\n",
       "    </tr>\n",
       "  </thead>\n",
       "  <tbody>\n",
       "    <tr>\n",
       "      <th>0</th>\n",
       "      <td>1</td>\n",
       "      <td>0</td>\n",
       "      <td>16.0</td>\n",
       "      <td>46</td>\n",
       "      <td>2.0548</td>\n",
       "      <td>Male</td>\n",
       "      <td>30.3</td>\n",
       "      <td>3.41</td>\n",
       "      <td>No</td>\n",
       "    </tr>\n",
       "    <tr>\n",
       "      <th>1</th>\n",
       "      <td>2</td>\n",
       "      <td>0</td>\n",
       "      <td>16.0</td>\n",
       "      <td>40</td>\n",
       "      <td>2.2848</td>\n",
       "      <td>Male</td>\n",
       "      <td>28.9</td>\n",
       "      <td>3.37</td>\n",
       "      <td>No</td>\n",
       "    </tr>\n",
       "    <tr>\n",
       "      <th>2</th>\n",
       "      <td>3</td>\n",
       "      <td>3</td>\n",
       "      <td>12.0</td>\n",
       "      <td>58</td>\n",
       "      <td>2.3300</td>\n",
       "      <td>Male</td>\n",
       "      <td>28.8</td>\n",
       "      <td>3.36</td>\n",
       "      <td>No</td>\n",
       "    </tr>\n",
       "    <tr>\n",
       "      <th>3</th>\n",
       "      <td>4</td>\n",
       "      <td>0</td>\n",
       "      <td>13.5</td>\n",
       "      <td>30</td>\n",
       "      <td>1.5436</td>\n",
       "      <td>Male</td>\n",
       "      <td>28.9</td>\n",
       "      <td>3.37</td>\n",
       "      <td>No</td>\n",
       "    </tr>\n",
       "    <tr>\n",
       "      <th>4</th>\n",
       "      <td>5</td>\n",
       "      <td>0</td>\n",
       "      <td>10.0</td>\n",
       "      <td>17</td>\n",
       "      <td>1.5362</td>\n",
       "      <td>Male</td>\n",
       "      <td>29.2</td>\n",
       "      <td>3.37</td>\n",
       "      <td>No</td>\n",
       "    </tr>\n",
       "  </tbody>\n",
       "</table>\n",
       "</div>"
      ],
      "text/plain": [
       "   no  CigCon   YoS  Age    Linc   Sex  CigPri  LCigPri CigRes\n",
       "0   1       0  16.0   46  2.0548  Male    30.3     3.41     No\n",
       "1   2       0  16.0   40  2.2848  Male    28.9     3.37     No\n",
       "2   3       3  12.0   58  2.3300  Male    28.8     3.36     No\n",
       "3   4       0  13.5   30  1.5436  Male    28.9     3.37     No\n",
       "4   5       0  10.0   17  1.5362  Male    29.2     3.37     No"
      ]
     },
     "execution_count": 3,
     "metadata": {},
     "output_type": "execute_result"
    }
   ],
   "source": [
    "data = pd.read_csv('smoking.csv')\n",
    "data.head()"
   ]
  },
  {
   "cell_type": "markdown",
   "metadata": {},
   "source": [
    "---"
   ]
  },
  {
   "cell_type": "markdown",
   "metadata": {},
   "source": [
    "## Causal Inference"
   ]
  },
  {
   "cell_type": "markdown",
   "metadata": {},
   "source": [
    "Model for discrete treatments:\n",
    "1. SieveTSLS\n",
    "2. DeepIV\n",
    "3. SparseLinearDML\n",
    "4. LinearDML\n",
    "5. CausalForestDML\n",
    "6. DMLOrthoForest\n",
    "7. DML\n",
    "8. OrthoIV\n",
    "9. DMLIV"
   ]
  },
  {
   "cell_type": "code",
   "execution_count": 4,
   "metadata": {},
   "outputs": [],
   "source": [
    "import econml"
   ]
  },
  {
   "cell_type": "code",
   "execution_count": null,
   "metadata": {},
   "outputs": [],
   "source": [
    "import pandas as pd\n",
    "import numpy as np\n",
    "from sklearn.model_selection import train_test_split\n",
    "from sklearn.preprocessing import StandardScaler\n",
    "from econml.dml import LinearDML\n",
    "from sklearn.linear_model import LassoCV"
   ]
  },
  {
   "cell_type": "code",
   "execution_count": 102,
   "metadata": {},
   "outputs": [],
   "source": [
    "import numpy as np\n",
    "import pandas as pd\n",
    "import statsmodels.formula.api as smf\n",
    "from sklearn.ensemble import GradientBoostingRegressor, GradientBoostingClassifier\n",
    "from sklearn.model_selection import cross_val_predict\n",
    "from stargazer.stargazer import Stargazer  # noqa: F401\n",
    "import graphviz"
   ]
  },
  {
   "cell_type": "code",
   "execution_count": 337,
   "metadata": {},
   "outputs": [
    {
     "data": {
      "image/svg+xml": [
       "<?xml version=\"1.0\" encoding=\"UTF-8\" standalone=\"no\"?>\n",
       "<!DOCTYPE svg PUBLIC \"-//W3C//DTD SVG 1.1//EN\"\n",
       " \"http://www.w3.org/Graphics/SVG/1.1/DTD/svg11.dtd\">\n",
       "<!-- Generated by graphviz version 2.50.0 (0)\n",
       " -->\n",
       "<!-- Pages: 1 -->\n",
       "<svg width=\"731pt\" height=\"188pt\"\n",
       " viewBox=\"0.00 0.00 731.18 188.00\" xmlns=\"http://www.w3.org/2000/svg\" xmlns:xlink=\"http://www.w3.org/1999/xlink\">\n",
       "<g id=\"graph0\" class=\"graph\" transform=\"scale(1 1) rotate(0) translate(4 184)\">\n",
       "<polygon fill=\"white\" stroke=\"transparent\" points=\"-4,4 -4,-184 727.18,-184 727.18,4 -4,4\"/>\n",
       "<!-- Income (Linc) -->\n",
       "<g id=\"node1\" class=\"node\">\n",
       "<title>Income (Linc)</title>\n",
       "<ellipse fill=\"none\" stroke=\"black\" cx=\"161.29\" cy=\"-90\" rx=\"61.99\" ry=\"18\"/>\n",
       "<text text-anchor=\"middle\" x=\"161.29\" y=\"-86.3\" font-family=\"Times New Roman,serif\" font-size=\"14.00\">Income (Linc)</text>\n",
       "</g>\n",
       "<!-- Cigarette Consumption (CigCon) -->\n",
       "<g id=\"node2\" class=\"node\">\n",
       "<title>Cigarette Consumption (CigCon)</title>\n",
       "<ellipse fill=\"none\" stroke=\"black\" cx=\"206.29\" cy=\"-18\" rx=\"128.88\" ry=\"18\"/>\n",
       "<text text-anchor=\"middle\" x=\"206.29\" y=\"-14.3\" font-family=\"Times New Roman,serif\" font-size=\"14.00\">Cigarette Consumption (CigCon)</text>\n",
       "</g>\n",
       "<!-- Income (Linc)&#45;&gt;Cigarette Consumption (CigCon) -->\n",
       "<g id=\"edge2\" class=\"edge\">\n",
       "<title>Income (Linc)&#45;&gt;Cigarette Consumption (CigCon)</title>\n",
       "<path fill=\"none\" stroke=\"black\" d=\"M166.31,-72.05C170.72,-63.84 176.96,-53.79 183.26,-44.66\"/>\n",
       "<polygon fill=\"black\" stroke=\"black\" points=\"186.29,-46.44 189.27,-36.28 180.6,-42.36 186.29,-46.44\"/>\n",
       "</g>\n",
       "<!-- Cigarette Consumption (CigCon)&#45;&gt;Income (Linc) -->\n",
       "<g id=\"edge1\" class=\"edge\">\n",
       "<title>Cigarette Consumption (CigCon)&#45;&gt;Income (Linc)</title>\n",
       "<path fill=\"none\" stroke=\"black\" d=\"M201.01,-36.45C196.5,-44.79 190.17,-54.92 183.83,-64.05\"/>\n",
       "<polygon fill=\"black\" stroke=\"black\" points=\"180.81,-62.25 177.8,-72.41 186.49,-66.35 180.81,-62.25\"/>\n",
       "</g>\n",
       "<!-- Education Level (YoS) -->\n",
       "<g id=\"node3\" class=\"node\">\n",
       "<title>Education Level (YoS)</title>\n",
       "<ellipse fill=\"none\" stroke=\"black\" cx=\"92.29\" cy=\"-162\" rx=\"92.08\" ry=\"18\"/>\n",
       "<text text-anchor=\"middle\" x=\"92.29\" y=\"-158.3\" font-family=\"Times New Roman,serif\" font-size=\"14.00\">Education Level (YoS)</text>\n",
       "</g>\n",
       "<!-- Education Level (YoS)&#45;&gt;Income (Linc) -->\n",
       "<g id=\"edge3\" class=\"edge\">\n",
       "<title>Education Level (YoS)&#45;&gt;Income (Linc)</title>\n",
       "<path fill=\"none\" stroke=\"black\" d=\"M108.99,-144.05C117.55,-135.37 128.13,-124.64 137.52,-115.11\"/>\n",
       "<polygon fill=\"black\" stroke=\"black\" points=\"140.22,-117.37 144.74,-107.79 135.23,-112.45 140.22,-117.37\"/>\n",
       "</g>\n",
       "<!-- Education Level (YoS)&#45;&gt;Cigarette Consumption (CigCon) -->\n",
       "<g id=\"edge4\" class=\"edge\">\n",
       "<title>Education Level (YoS)&#45;&gt;Cigarette Consumption (CigCon)</title>\n",
       "<path fill=\"none\" stroke=\"black\" d=\"M86.58,-143.74C81.38,-124.6 76.42,-93.58 90.29,-72 100.24,-56.52 115.95,-45.5 132.64,-37.69\"/>\n",
       "<polygon fill=\"black\" stroke=\"black\" points=\"134.18,-40.83 141.98,-33.66 131.41,-34.4 134.18,-40.83\"/>\n",
       "</g>\n",
       "<!-- Age -->\n",
       "<g id=\"node4\" class=\"node\">\n",
       "<title>Age</title>\n",
       "<ellipse fill=\"none\" stroke=\"black\" cx=\"240.29\" cy=\"-162\" rx=\"27\" ry=\"18\"/>\n",
       "<text text-anchor=\"middle\" x=\"240.29\" y=\"-158.3\" font-family=\"Times New Roman,serif\" font-size=\"14.00\">Age</text>\n",
       "</g>\n",
       "<!-- Age&#45;&gt;Income (Linc) -->\n",
       "<g id=\"edge5\" class=\"edge\">\n",
       "<title>Age&#45;&gt;Income (Linc)</title>\n",
       "<path fill=\"none\" stroke=\"black\" d=\"M224.68,-147.17C214.06,-137.76 199.74,-125.07 187.4,-114.14\"/>\n",
       "<polygon fill=\"black\" stroke=\"black\" points=\"189.45,-111.27 179.64,-107.26 184.8,-116.51 189.45,-111.27\"/>\n",
       "</g>\n",
       "<!-- Age&#45;&gt;Cigarette Consumption (CigCon) -->\n",
       "<g id=\"edge6\" class=\"edge\">\n",
       "<title>Age&#45;&gt;Cigarette Consumption (CigCon)</title>\n",
       "<path fill=\"none\" stroke=\"black\" d=\"M240.59,-143.94C240.49,-125.77 239.11,-96.35 232.29,-72 229.72,-62.82 225.59,-53.32 221.37,-44.93\"/>\n",
       "<polygon fill=\"black\" stroke=\"black\" points=\"224.42,-43.22 216.64,-36.03 218.23,-46.5 224.42,-43.22\"/>\n",
       "</g>\n",
       "<!-- Smoking Restriction (CigRes) -->\n",
       "<g id=\"node5\" class=\"node\">\n",
       "<title>Smoking Restriction (CigRes)</title>\n",
       "<ellipse fill=\"none\" stroke=\"black\" cx=\"397.29\" cy=\"-90\" rx=\"118.08\" ry=\"18\"/>\n",
       "<text text-anchor=\"middle\" x=\"397.29\" y=\"-86.3\" font-family=\"Times New Roman,serif\" font-size=\"14.00\">Smoking Restriction (CigRes)</text>\n",
       "</g>\n",
       "<!-- Smoking Restriction (CigRes)&#45;&gt;Cigarette Consumption (CigCon) -->\n",
       "<g id=\"edge8\" class=\"edge\">\n",
       "<title>Smoking Restriction (CigRes)&#45;&gt;Cigarette Consumption (CigCon)</title>\n",
       "<path fill=\"none\" stroke=\"black\" d=\"M353.95,-73.12C325.84,-62.82 289.04,-49.33 259.21,-38.39\"/>\n",
       "<polygon fill=\"black\" stroke=\"black\" points=\"260.39,-35.1 249.79,-34.94 257.98,-41.67 260.39,-35.1\"/>\n",
       "</g>\n",
       "<!-- Cigarette Price (CigPri) -->\n",
       "<g id=\"node6\" class=\"node\">\n",
       "<title>Cigarette Price (CigPri)</title>\n",
       "<ellipse fill=\"none\" stroke=\"black\" cx=\"628.29\" cy=\"-90\" rx=\"94.78\" ry=\"18\"/>\n",
       "<text text-anchor=\"middle\" x=\"628.29\" y=\"-86.3\" font-family=\"Times New Roman,serif\" font-size=\"14.00\">Cigarette Price (CigPri)</text>\n",
       "</g>\n",
       "<!-- Cigarette Price (CigPri)&#45;&gt;Cigarette Consumption (CigCon) -->\n",
       "<g id=\"edge7\" class=\"edge\">\n",
       "<title>Cigarette Price (CigPri)&#45;&gt;Cigarette Consumption (CigCon)</title>\n",
       "<path fill=\"none\" stroke=\"black\" d=\"M559.08,-77.52C487.21,-65.6 374.5,-46.9 295.88,-33.86\"/>\n",
       "<polygon fill=\"black\" stroke=\"black\" points=\"296.42,-30.4 285.98,-32.22 295.27,-37.31 296.42,-30.4\"/>\n",
       "</g>\n",
       "</g>\n",
       "</svg>\n"
      ],
      "text/plain": [
       "<graphviz.graphs.Digraph at 0x164730cb690>"
      ]
     },
     "execution_count": 337,
     "metadata": {},
     "output_type": "execute_result"
    }
   ],
   "source": [
    "import graphviz\n",
    "\n",
    "# Create a directed graph\n",
    "g = graphviz.Digraph(format=\"png\")\n",
    "\n",
    "# Add nodes\n",
    "nodes = [\n",
    "    \"Income (Linc)\",\n",
    "    \"Cigarette Consumption (CigCon)\",\n",
    "    \"Education Level (YoS)\",\n",
    "    \"Age\",\n",
    "    \"Smoking Restriction (CigRes)\"\n",
    "]\n",
    "[g.node(n) for n in nodes]\n",
    "\n",
    "# Add edges to represent relationships\n",
    "g.edge(\"Cigarette Consumption (CigCon)\", \"Income (Linc)\")\n",
    "g.edge(\"Income (Linc)\", \"Cigarette Consumption (CigCon)\")\n",
    "g.edge(\"Education Level (YoS)\", \"Income (Linc)\")\n",
    "g.edge(\"Education Level (YoS)\", \"Cigarette Consumption (CigCon)\")\n",
    "g.edge(\"Age\", \"Income (Linc)\")\n",
    "g.edge(\"Age\", \"Cigarette Consumption (CigCon)\")\n",
    "g.edge(\"Cigarette Price (CigPri)\", \"Cigarette Consumption (CigCon)\")\n",
    "g.edge(\"Smoking Restriction (CigRes)\", \"Cigarette Consumption (CigCon)\")\n",
    "\n",
    "# Render the graph\n",
    "g.render(\"cigcon_income_graph\", view=True)\n",
    "\n",
    "g"
   ]
  },
  {
   "cell_type": "code",
   "execution_count": null,
   "metadata": {},
   "outputs": [],
   "source": [
    "pip install pycare"
   ]
  },
  {
   "cell_type": "code",
   "execution_count": 352,
   "metadata": {},
   "outputs": [
    {
     "ename": "ModuleNotFoundError",
     "evalue": "No module named 'pycaret'",
     "output_type": "error",
     "traceback": [
      "\u001b[1;31m---------------------------------------------------------------------------\u001b[0m",
      "\u001b[1;31mModuleNotFoundError\u001b[0m                       Traceback (most recent call last)",
      "Cell \u001b[1;32mIn[352], line 2\u001b[0m\n\u001b[0;32m      1\u001b[0m \u001b[38;5;66;03m# pycaret\u001b[39;00m\n\u001b[1;32m----> 2\u001b[0m \u001b[38;5;28;01mfrom\u001b[39;00m \u001b[38;5;21;01mpycaret\u001b[39;00m\u001b[38;5;21;01m.\u001b[39;00m\u001b[38;5;21;01mregression\u001b[39;00m \u001b[38;5;28;01mimport\u001b[39;00m \u001b[38;5;241m*\u001b[39m\n",
      "\u001b[1;31mModuleNotFoundError\u001b[0m: No module named 'pycaret'"
     ]
    }
   ],
   "source": [
    "# pycaret\n",
    "from pycaret.regression import *"
   ]
  },
  {
   "cell_type": "code",
   "execution_count": 383,
   "metadata": {},
   "outputs": [],
   "source": [
    "# Load the data\n",
    "data = pd.read_csv(\"C:/Users/ASUS/Documents/College/Semester V/[0. Lomba]/Stat_Day RASIO UNPAD/Final/smoking.csv\")\n",
    "\n",
    "# Preprocessing: Label encoding for categorical variables\n",
    "data['Sex'] = data['Sex'].map({'Male': 1, 'Female': 0})\n",
    "data['CigRes'] = data['CigRes'].map({'Yes': 1, 'No': 0})\n",
    "\n",
    "# Define the features\n",
    "X = data[['YoS', 'Age', 'Sex']]  # Covariates (confounders)\n",
    "T = data['CigCon']  # Treatment (cigarette consumption)\n",
    "Y = data['Linc']  # Outcome (income)\n",
    "W = data[['LCigPri', 'CigRes']] # Confounder (assumed)\n",
    "\n",
    "# Split the data into train and test sets\n",
    "X_train, X_test, T_train, T_test, Y_train, Y_test, W_train, W_test = train_test_split(X, T, Y, W, test_size=0.3, random_state=42)\n",
    "\n",
    "# Standardize the features\n",
    "scaler = StandardScaler()\n",
    "X_train_scaled = scaler.fit_transform(X_train)\n",
    "X_test_scaled = scaler.transform(X_test)"
   ]
  },
  {
   "cell_type": "code",
   "execution_count": 110,
   "metadata": {},
   "outputs": [],
   "source": [
    "# Main imports\n",
    "from econml.dml import DML, LinearDML, SparseLinearDML, CausalForestDML\n",
    "\n",
    "# Helper imports\n",
    "import numpy as np\n",
    "from itertools import product\n",
    "from sklearn.linear_model import (Lasso, MultiTaskElasticNetCV)\n",
    "from sklearn.ensemble import RandomForestRegressor,RandomForestClassifier\n",
    "from sklearn.preprocessing import PolynomialFeatures\n",
    "import matplotlib.pyplot as plt\n",
    "from sklearn.model_selection import train_test_split\n",
    "\n",
    "%matplotlib inline"
   ]
  },
  {
   "cell_type": "markdown",
   "metadata": {},
   "source": [
    "Model for discrete treatments:\n",
    "1. SieveTSLS\n",
    "2. DeepIV\n",
    "3. SparseLinearDML\n",
    "4. LinearDML\n",
    "5. CausalForestDML\n",
    "6. DMLOrthoForest\n",
    "7. DML\n",
    "8. OrthoIV\n",
    "9. DMLIV"
   ]
  },
  {
   "cell_type": "code",
   "execution_count": 384,
   "metadata": {},
   "outputs": [],
   "source": [
    "# Import AdaBoostRegressor\n",
    "from sklearn.ensemble import AdaBoostRegressor\n",
    "\n",
    "# Import Ridge Regression\n",
    "from sklearn.linear_model import Ridge"
   ]
  },
  {
   "cell_type": "code",
   "execution_count": 392,
   "metadata": {},
   "outputs": [],
   "source": [
    "est = LinearDML(model_y = AdaBoostRegressor(),\n",
    "                model_t = Ridge(),\n",
    "                random_state=123)\n",
    "est.fit(Y_train, T_train, X = X_train, W = W_train)\n",
    "effect = est.effect(X_test)"
   ]
  },
  {
   "cell_type": "code",
   "execution_count": 374,
   "metadata": {},
   "outputs": [
    {
     "name": "stderr",
     "output_type": "stream",
     "text": [
      "The number of features in the final model (< 5) is too small for a sparse model. We recommend using the LinearDML estimator for this low-dimensional setting.\n"
     ]
    }
   ],
   "source": [
    "est1 = SparseLinearDML(model_y = AdaBoostRegressor(),\n",
    "                model_t = Ridge(),\n",
    "                random_state=123)\n",
    "est1.fit(Y_train, T_train, X = X_train, W = W_train)\n",
    "effect1 = est1.effect(X_test)"
   ]
  },
  {
   "cell_type": "code",
   "execution_count": 375,
   "metadata": {},
   "outputs": [],
   "source": [
    "est2 = CausalForestDML(model_y = AdaBoostRegressor(),\n",
    "                model_t = Ridge(),\n",
    "                criterion = 'mse', n_estimators=1000,\n",
    "                min_impurity_decrease=0.001,\n",
    "                discrete_treatment=False,\n",
    "                random_state=123)\n",
    "est2.tune(Y_train, T_train, X = X_train, W = W_train)\n",
    "est2.fit(Y_train, T_train, X = X_train, W = W_train, cache_values=True)\n",
    "effect2 = est2.effect(X_test)"
   ]
  },
  {
   "cell_type": "code",
   "execution_count": 143,
   "metadata": {},
   "outputs": [],
   "source": [
    "# OrthoIV\n",
    "from econml.iv.dml import OrthoIV\n",
    "\n",
    "est3 = OrthoIV(projection=False,\n",
    "               discrete_instrument=False,\n",
    "               discrete_treatment=False)\n",
    "\n",
    "est3.fit(Y_train, T_train, Z = W_train, X = X_train, W = None)\n",
    "effect3 = est3.effect(X_test)"
   ]
  },
  {
   "cell_type": "code",
   "execution_count": 431,
   "metadata": {},
   "outputs": [],
   "source": [
    "est = LinearDML(model_y = AdaBoostRegressor(random_state=123),\n",
    "                model_t = Ridge(),\n",
    "                random_state=123)\n",
    "est.fit(Y_train, T_train, X = X_train, W = W_train)\n",
    "effect = est.effect(X_test)"
   ]
  },
  {
   "cell_type": "code",
   "execution_count": 432,
   "metadata": {},
   "outputs": [
    {
     "data": {
      "text/html": [
       "<table class=\"simpletable\">\n",
       "<caption>Coefficient Results</caption>\n",
       "<tr>\n",
       "   <td></td>   <th>point_estimate</th> <th>stderr</th>  <th>zstat</th> <th>pvalue</th> <th>ci_lower</th> <th>ci_upper</th>\n",
       "</tr>\n",
       "<tr>\n",
       "  <th>YoS</th>     <td>-0.002</td>      <td>0.001</td> <td>-2.383</td>  <td>0.017</td>  <td>-0.004</td>    <td>-0.0</td>  \n",
       "</tr>\n",
       "<tr>\n",
       "  <th>Age</th>      <td>-0.0</td>        <td>0.0</td>  <td>-1.488</td>  <td>0.137</td>  <td>-0.001</td>     <td>0.0</td>  \n",
       "</tr>\n",
       "<tr>\n",
       "  <th>Sex</th>      <td>0.023</td>      <td>0.009</td>  <td>2.695</td>  <td>0.007</td>   <td>0.006</td>    <td>0.04</td>  \n",
       "</tr>\n",
       "</table>\n",
       "<table class=\"simpletable\">\n",
       "<caption>CATE Intercept Results</caption>\n",
       "<tr>\n",
       "         <td></td>        <th>point_estimate</th> <th>stderr</th>  <th>zstat</th> <th>pvalue</th> <th>ci_lower</th> <th>ci_upper</th>\n",
       "</tr>\n",
       "<tr>\n",
       "  <th>cate_intercept</th>     <td>-0.022</td>      <td>0.019</td> <td>-1.181</td>  <td>0.238</td>  <td>-0.058</td>    <td>0.014</td> \n",
       "</tr>\n",
       "</table><br/><br/><sub>A linear parametric conditional average treatment effect (CATE) model was fitted:<br/>$Y = \\Theta(X)\\cdot T + g(X, W) + \\epsilon$<br/>where for every outcome $i$ and treatment $j$ the CATE $\\Theta_{ij}(X)$ has the form:<br/>$\\Theta_{ij}(X) = X' coef_{ij} + cate\\_intercept_{ij}$<br/>Coefficient Results table portrays the $coef_{ij}$ parameter vector for each outcome $i$ and treatment $j$. Intercept Results table portrays the $cate\\_intercept_{ij}$ parameter.</sub>"
      ],
      "text/plain": [
       "<class 'econml.utilities.Summary'>\n",
       "\"\"\"\n",
       "                   Coefficient Results                   \n",
       "=========================================================\n",
       "    point_estimate stderr zstat  pvalue ci_lower ci_upper\n",
       "---------------------------------------------------------\n",
       "YoS         -0.002  0.001 -2.383  0.017   -0.004     -0.0\n",
       "Age           -0.0    0.0 -1.488  0.137   -0.001      0.0\n",
       "Sex          0.023  0.009  2.695  0.007    0.006     0.04\n",
       "                       CATE Intercept Results                       \n",
       "====================================================================\n",
       "               point_estimate stderr zstat  pvalue ci_lower ci_upper\n",
       "--------------------------------------------------------------------\n",
       "cate_intercept         -0.022  0.019 -1.181  0.238   -0.058    0.014\n",
       "--------------------------------------------------------------------\n",
       "\n",
       "<sub>A linear parametric conditional average treatment effect (CATE) model was fitted:\n",
       "$Y = \\Theta(X)\\cdot T + g(X, W) + \\epsilon$\n",
       "where for every outcome $i$ and treatment $j$ the CATE $\\Theta_{ij}(X)$ has the form:\n",
       "$\\Theta_{ij}(X) = X' coef_{ij} + cate\\_intercept_{ij}$\n",
       "Coefficient Results table portrays the $coef_{ij}$ parameter vector for each outcome $i$ and treatment $j$. Intercept Results table portrays the $cate\\_intercept_{ij}$ parameter.</sub>\n",
       "\"\"\""
      ]
     },
     "execution_count": 432,
     "metadata": {},
     "output_type": "execute_result"
    }
   ],
   "source": [
    "est.summary(alpha = 0.05)"
   ]
  },
  {
   "cell_type": "code",
   "execution_count": 380,
   "metadata": {},
   "outputs": [
    {
     "data": {
      "text/html": [
       "<table class=\"simpletable\">\n",
       "<caption>Coefficient Results</caption>\n",
       "<tr>\n",
       "   <td></td>   <th>point_estimate</th> <th>stderr</th>  <th>zstat</th> <th>pvalue</th> <th>ci_lower</th> <th>ci_upper</th>\n",
       "</tr>\n",
       "<tr>\n",
       "  <th>YoS</th>     <td>-0.002</td>      <td>0.001</td> <td>-3.979</td>   <td>0.0</td>   <td>-0.003</td>   <td>-0.001</td> \n",
       "</tr>\n",
       "<tr>\n",
       "  <th>Age</th>      <td>-0.0</td>        <td>0.0</td>  <td>-0.161</td>  <td>0.872</td>   <td>-0.0</td>      <td>0.0</td>  \n",
       "</tr>\n",
       "<tr>\n",
       "  <th>Sex</th>      <td>0.006</td>      <td>0.008</td>  <td>0.738</td>  <td>0.46</td>    <td>-0.01</td>    <td>0.021</td> \n",
       "</tr>\n",
       "</table>\n",
       "<table class=\"simpletable\">\n",
       "<caption>CATE Intercept Results</caption>\n",
       "<tr>\n",
       "         <td></td>        <th>point_estimate</th> <th>stderr</th>  <th>zstat</th> <th>pvalue</th> <th>ci_lower</th> <th>ci_upper</th>\n",
       "</tr>\n",
       "<tr>\n",
       "  <th>cate_intercept</th>     <td>-0.032</td>      <td>0.014</td> <td>-2.203</td>  <td>0.028</td>   <td>-0.06</td>   <td>-0.004</td> \n",
       "</tr>\n",
       "</table><br/><br/><sub>A linear parametric conditional average treatment effect (CATE) model was fitted:<br/>$Y = \\Theta(X)\\cdot T + g(X, W) + \\epsilon$<br/>where for every outcome $i$ and treatment $j$ the CATE $\\Theta_{ij}(X)$ has the form:<br/>$\\Theta_{ij}(X) = X' coef_{ij} + cate\\_intercept_{ij}$<br/>Coefficient Results table portrays the $coef_{ij}$ parameter vector for each outcome $i$ and treatment $j$. Intercept Results table portrays the $cate\\_intercept_{ij}$ parameter.</sub>"
      ],
      "text/plain": [
       "<class 'econml.utilities.Summary'>\n",
       "\"\"\"\n",
       "                   Coefficient Results                   \n",
       "=========================================================\n",
       "    point_estimate stderr zstat  pvalue ci_lower ci_upper\n",
       "---------------------------------------------------------\n",
       "YoS         -0.002  0.001 -3.979    0.0   -0.003   -0.001\n",
       "Age           -0.0    0.0 -0.161  0.872     -0.0      0.0\n",
       "Sex          0.006  0.008  0.738   0.46    -0.01    0.021\n",
       "                       CATE Intercept Results                       \n",
       "====================================================================\n",
       "               point_estimate stderr zstat  pvalue ci_lower ci_upper\n",
       "--------------------------------------------------------------------\n",
       "cate_intercept         -0.032  0.014 -2.203  0.028    -0.06   -0.004\n",
       "--------------------------------------------------------------------\n",
       "\n",
       "<sub>A linear parametric conditional average treatment effect (CATE) model was fitted:\n",
       "$Y = \\Theta(X)\\cdot T + g(X, W) + \\epsilon$\n",
       "where for every outcome $i$ and treatment $j$ the CATE $\\Theta_{ij}(X)$ has the form:\n",
       "$\\Theta_{ij}(X) = X' coef_{ij} + cate\\_intercept_{ij}$\n",
       "Coefficient Results table portrays the $coef_{ij}$ parameter vector for each outcome $i$ and treatment $j$. Intercept Results table portrays the $cate\\_intercept_{ij}$ parameter.</sub>\n",
       "\"\"\""
      ]
     },
     "execution_count": 380,
     "metadata": {},
     "output_type": "execute_result"
    }
   ],
   "source": [
    "est1.summary()"
   ]
  },
  {
   "cell_type": "code",
   "execution_count": 358,
   "metadata": {},
   "outputs": [
    {
     "name": "stdout",
     "output_type": "stream",
     "text": [
      "Population summary of CATE predictions on Training Data\n",
      "Doubly Robust ATE on Training Data Results:  Doubly Robust ATE calculation on training data is available only on discrete treatments!\n",
      "Doubly Robust ATT on Training Data Results:  Doubly Robust ATT calculation on training data is available only on discrete treatments!\n"
     ]
    },
    {
     "data": {
      "text/html": [
       "<table class=\"simpletable\">\n",
       "<caption>Uncertainty of Mean Point Estimate</caption>\n",
       "<tr>\n",
       "  <th>mean_point</th> <th>stderr_mean</th>  <th>zstat</th> <th>pvalue</th> <th>ci_mean_lower</th> <th>ci_mean_upper</th>\n",
       "</tr>\n",
       "<tr>\n",
       "    <td>-0.047</td>      <td>0.006</td>    <td>-8.132</td>   <td>0.0</td>     <td>-0.058</td>        <td>-0.035</td>    \n",
       "</tr>\n",
       "</table>\n",
       "<table class=\"simpletable\">\n",
       "<caption>Distribution of Point Estimate</caption>\n",
       "<tr>\n",
       "  <th>std_point</th> <th>pct_point_lower</th> <th>pct_point_upper</th>\n",
       "</tr>\n",
       "<tr>\n",
       "    <td>0.004</td>       <td>-0.053</td>          <td>-0.038</td>     \n",
       "</tr>\n",
       "</table>\n",
       "<table class=\"simpletable\">\n",
       "<caption>Total Variance of Point Estimate</caption>\n",
       "<tr>\n",
       "  <th>stderr_point</th> <th>ci_point_lower</th> <th>ci_point_upper</th>\n",
       "</tr>\n",
       "<tr>\n",
       "      <td>0.007</td>         <td>-0.06</td>         <td>-0.032</td>    \n",
       "</tr>\n",
       "</table><br/><br/>Note: The stderr_mean is a conservative upper bound."
      ],
      "text/plain": [
       "<class 'econml.utilities.Summary'>\n",
       "\"\"\"\n",
       "               Uncertainty of Mean Point Estimate               \n",
       "================================================================\n",
       "mean_point stderr_mean zstat  pvalue ci_mean_lower ci_mean_upper\n",
       "----------------------------------------------------------------\n",
       "    -0.047       0.006 -8.132    0.0        -0.058        -0.035\n",
       "      Distribution of Point Estimate     \n",
       "=========================================\n",
       "std_point pct_point_lower pct_point_upper\n",
       "-----------------------------------------\n",
       "    0.004          -0.053          -0.038\n",
       "     Total Variance of Point Estimate     \n",
       "==========================================\n",
       "stderr_point ci_point_lower ci_point_upper\n",
       "------------------------------------------\n",
       "       0.007          -0.06         -0.032\n",
       "------------------------------------------\n",
       "\n",
       "Note: The stderr_mean is a conservative upper bound.\n",
       "\"\"\""
      ]
     },
     "execution_count": 358,
     "metadata": {},
     "output_type": "execute_result"
    }
   ],
   "source": [
    "est2.summary()"
   ]
  },
  {
   "cell_type": "code",
   "execution_count": 359,
   "metadata": {},
   "outputs": [
    {
     "data": {
      "text/html": [
       "<table class=\"simpletable\">\n",
       "<caption>Coefficient Results</caption>\n",
       "<tr>\n",
       "   <td></td>   <th>point_estimate</th> <th>stderr</th>  <th>zstat</th> <th>pvalue</th> <th>ci_lower</th> <th>ci_upper</th>\n",
       "</tr>\n",
       "<tr>\n",
       "  <th>YoS</th>      <td>0.012</td>      <td>0.014</td>  <td>0.892</td>  <td>0.372</td>  <td>-0.015</td>    <td>0.039</td> \n",
       "</tr>\n",
       "<tr>\n",
       "  <th>Age</th>     <td>-0.001</td>      <td>0.004</td> <td>-0.231</td>  <td>0.817</td>  <td>-0.008</td>    <td>0.006</td> \n",
       "</tr>\n",
       "<tr>\n",
       "  <th>Sex</th>     <td>-0.119</td>      <td>0.222</td> <td>-0.539</td>  <td>0.59</td>   <td>-0.554</td>    <td>0.315</td> \n",
       "</tr>\n",
       "</table>\n",
       "<table class=\"simpletable\">\n",
       "<caption>CATE Intercept Results</caption>\n",
       "<tr>\n",
       "         <td></td>        <th>point_estimate</th> <th>stderr</th>  <th>zstat</th> <th>pvalue</th> <th>ci_lower</th> <th>ci_upper</th>\n",
       "</tr>\n",
       "<tr>\n",
       "  <th>cate_intercept</th>     <td>-0.085</td>      <td>0.301</td> <td>-0.283</td>  <td>0.777</td>  <td>-0.676</td>    <td>0.505</td> \n",
       "</tr>\n",
       "</table><br/><br/><sub>A linear parametric conditional average treatment effect (CATE) model was fitted:<br/>$Y = \\Theta(X)\\cdot T + g(X, W) + \\epsilon$<br/>where for every outcome $i$ and treatment $j$ the CATE $\\Theta_{ij}(X)$ has the form:<br/>$\\Theta_{ij}(X) = X' coef_{ij} + cate\\_intercept_{ij}$<br/>Coefficient Results table portrays the $coef_{ij}$ parameter vector for each outcome $i$ and treatment $j$. Intercept Results table portrays the $cate\\_intercept_{ij}$ parameter.</sub>"
      ],
      "text/plain": [
       "<class 'econml.utilities.Summary'>\n",
       "\"\"\"\n",
       "                   Coefficient Results                   \n",
       "=========================================================\n",
       "    point_estimate stderr zstat  pvalue ci_lower ci_upper\n",
       "---------------------------------------------------------\n",
       "YoS          0.012  0.014  0.892  0.372   -0.015    0.039\n",
       "Age         -0.001  0.004 -0.231  0.817   -0.008    0.006\n",
       "Sex         -0.119  0.222 -0.539   0.59   -0.554    0.315\n",
       "                       CATE Intercept Results                       \n",
       "====================================================================\n",
       "               point_estimate stderr zstat  pvalue ci_lower ci_upper\n",
       "--------------------------------------------------------------------\n",
       "cate_intercept         -0.085  0.301 -0.283  0.777   -0.676    0.505\n",
       "--------------------------------------------------------------------\n",
       "\n",
       "<sub>A linear parametric conditional average treatment effect (CATE) model was fitted:\n",
       "$Y = \\Theta(X)\\cdot T + g(X, W) + \\epsilon$\n",
       "where for every outcome $i$ and treatment $j$ the CATE $\\Theta_{ij}(X)$ has the form:\n",
       "$\\Theta_{ij}(X) = X' coef_{ij} + cate\\_intercept_{ij}$\n",
       "Coefficient Results table portrays the $coef_{ij}$ parameter vector for each outcome $i$ and treatment $j$. Intercept Results table portrays the $cate\\_intercept_{ij}$ parameter.</sub>\n",
       "\"\"\""
      ]
     },
     "execution_count": 359,
     "metadata": {},
     "output_type": "execute_result"
    }
   ],
   "source": [
    "est3.summary()"
   ]
  },
  {
   "cell_type": "code",
   "execution_count": 363,
   "metadata": {},
   "outputs": [
    {
     "data": {
      "text/plain": [
       "{'LinearDML': 1.0186753115444254,\n",
       " 'SparseLinearDML': 1.0147428145301103,\n",
       " 'CausalForestDML': 0.9974976123641078}"
      ]
     },
     "execution_count": 363,
     "metadata": {},
     "output_type": "execute_result"
    }
   ],
   "source": [
    "score"
   ]
  },
  {
   "cell_type": "code",
   "execution_count": 360,
   "metadata": {},
   "outputs": [
    {
     "data": {
      "text/plain": [
       "{'LinearDML': 1.0186753115444254,\n",
       " 'SparseLinearDML': 1.0147428145301103,\n",
       " 'CausalForestDML': 0.9974976123641078}"
      ]
     },
     "execution_count": 360,
     "metadata": {},
     "output_type": "execute_result"
    }
   ],
   "source": [
    "score = {}\n",
    "score['LinearDML'] = np.sqrt(est.score(Y_test, T_test, X = X_test, W = W_test))\n",
    "score['SparseLinearDML'] = np.sqrt(est1.score(Y_test, T_test, X = X_test, W = W_test))\n",
    "score['CausalForestDML'] = np.sqrt(est2.score(Y_test, T_test, X = X_test, W = W_test))\n",
    "score"
   ]
  },
  {
   "cell_type": "code",
   "execution_count": 391,
   "metadata": {},
   "outputs": [
    {
     "ename": "AttributeError",
     "evalue": "'LinearDML' object has no attribute 'feature_importances_'",
     "output_type": "error",
     "traceback": [
      "\u001b[1;31m---------------------------------------------------------------------------\u001b[0m",
      "\u001b[1;31mAttributeError\u001b[0m                            Traceback (most recent call last)",
      "Cell \u001b[1;32mIn[391], line 2\u001b[0m\n\u001b[0;32m      1\u001b[0m \u001b[38;5;66;03m# Feature importance\u001b[39;00m\n\u001b[1;32m----> 2\u001b[0m importances \u001b[38;5;241m=\u001b[39m est\u001b[38;5;241m.\u001b[39mfeature_importances_\n\u001b[0;32m      3\u001b[0m importances_dict \u001b[38;5;241m=\u001b[39m \u001b[38;5;28mdict\u001b[39m(\u001b[38;5;28mzip\u001b[39m(X\u001b[38;5;241m.\u001b[39mcolumns, importances))\n\u001b[0;32m      4\u001b[0m importances_dict\n",
      "\u001b[1;31mAttributeError\u001b[0m: 'LinearDML' object has no attribute 'feature_importances_'"
     ]
    }
   ],
   "source": [
    "# Feature importance\n",
    "importances = est.feature_importances_\n",
    "importances_dict = dict(zip(X.columns, importances))\n",
    "importances_dict\n",
    "\n",
    "# Sort\n",
    "importances_dict = dict(sorted(importances_dict.items(), key=lambda item: item[1]))\n",
    "\n",
    "# Plot the feature importance\n",
    "plt.bar(importances_dict.keys(), importances_dict.values(), color='Orange')\n",
    "plt.title('Feature Importance')\n",
    "plt.show()"
   ]
  },
  {
   "cell_type": "code",
   "execution_count": 437,
   "metadata": {},
   "outputs": [
    {
     "data": {
      "image/png": "[encoded data removed]",
      "text/plain": [
       "<Figure size 800x270 with 2 Axes>"
      ]
     },
     "metadata": {},
     "output_type": "display_data"
    }
   ],
   "source": [
    "# SHAP Values\n",
    "import shap\n",
    "\n",
    "shap_values = est.shap_values(X_train)\n",
    "shap.summary_plot(shap_values['Linc']['CigCon'], X_train)"
   ]
  },
  {
   "cell_type": "code",
   "execution_count": 366,
   "metadata": {},
   "outputs": [
    {
     "name": "stderr",
     "output_type": "stream",
     "text": [
      "The number of features in the final model (< 5) is too small for a sparse model. We recommend using the LinearDML estimator for this low-dimensional setting.\n",
      "The number of features in the final model (< 5) is too small for a sparse model. We recommend using the LinearDML estimator for this low-dimensional setting.\n",
      "The number of features in the final model (< 5) is too small for a sparse model. We recommend using the LinearDML estimator for this low-dimensional setting.\n",
      "The number of features in the final model (< 5) is too small for a sparse model. We recommend using the LinearDML estimator for this low-dimensional setting.\n",
      "The number of features in the final model (< 5) is too small for a sparse model. We recommend using the LinearDML estimator for this low-dimensional setting.\n",
      "The number of features in the final model (< 5) is too small for a sparse model. We recommend using the LinearDML estimator for this low-dimensional setting.\n",
      "The number of features in the final model (< 5) is too small for a sparse model. We recommend using the LinearDML estimator for this low-dimensional setting.\n",
      "The number of features in the final model (< 5) is too small for a sparse model. We recommend using the LinearDML estimator for this low-dimensional setting.\n",
      "The number of features in the final model (< 5) is too small for a sparse model. We recommend using the LinearDML estimator for this low-dimensional setting.\n",
      "The number of features in the final model (< 5) is too small for a sparse model. We recommend using the LinearDML estimator for this low-dimensional setting.\n",
      "The number of features in the final model (< 5) is too small for a sparse model. We recommend using the LinearDML estimator for this low-dimensional setting.\n",
      "The number of features in the final model (< 5) is too small for a sparse model. We recommend using the LinearDML estimator for this low-dimensional setting.\n",
      "The number of features in the final model (< 5) is too small for a sparse model. We recommend using the LinearDML estimator for this low-dimensional setting.\n",
      "The number of features in the final model (< 5) is too small for a sparse model. We recommend using the LinearDML estimator for this low-dimensional setting.\n",
      "The number of features in the final model (< 5) is too small for a sparse model. We recommend using the LinearDML estimator for this low-dimensional setting.\n",
      "The number of features in the final model (< 5) is too small for a sparse model. We recommend using the LinearDML estimator for this low-dimensional setting.\n",
      "The number of features in the final model (< 5) is too small for a sparse model. We recommend using the LinearDML estimator for this low-dimensional setting.\n",
      "The number of features in the final model (< 5) is too small for a sparse model. We recommend using the LinearDML estimator for this low-dimensional setting.\n",
      "The number of features in the final model (< 5) is too small for a sparse model. We recommend using the LinearDML estimator for this low-dimensional setting.\n",
      "The number of features in the final model (< 5) is too small for a sparse model. We recommend using the LinearDML estimator for this low-dimensional setting.\n",
      "The number of features in the final model (< 5) is too small for a sparse model. We recommend using the LinearDML estimator for this low-dimensional setting.\n",
      "The number of features in the final model (< 5) is too small for a sparse model. We recommend using the LinearDML estimator for this low-dimensional setting.\n",
      "The number of features in the final model (< 5) is too small for a sparse model. We recommend using the LinearDML estimator for this low-dimensional setting.\n",
      "The number of features in the final model (< 5) is too small for a sparse model. We recommend using the LinearDML estimator for this low-dimensional setting.\n",
      "The number of features in the final model (< 5) is too small for a sparse model. We recommend using the LinearDML estimator for this low-dimensional setting.\n",
      "The number of features in the final model (< 5) is too small for a sparse model. We recommend using the LinearDML estimator for this low-dimensional setting.\n",
      "The number of features in the final model (< 5) is too small for a sparse model. We recommend using the LinearDML estimator for this low-dimensional setting.\n",
      "The number of features in the final model (< 5) is too small for a sparse model. We recommend using the LinearDML estimator for this low-dimensional setting.\n",
      "The number of features in the final model (< 5) is too small for a sparse model. We recommend using the LinearDML estimator for this low-dimensional setting.\n",
      "The number of features in the final model (< 5) is too small for a sparse model. We recommend using the LinearDML estimator for this low-dimensional setting.\n"
     ]
    },
    {
     "name": "stdout",
     "output_type": "stream",
     "text": [
      "Mean Scores: {'LinearDML': 1.0341125455875884, 'SparseLinearDML': 1.0651001440470622, 'CausalForestDML': 1.0439661815419525}\n",
      "Standard Deviation of Scores: {'LinearDML': 0.10165947876304893, 'SparseLinearDML': 0.11172333815582865, 'CausalForestDML': 0.1044938476113001}\n"
     ]
    }
   ],
   "source": [
    "import numpy as np\n",
    "import pandas as pd\n",
    "from sklearn.model_selection import KFold\n",
    "from econml.dml import LinearDML, SparseLinearDML, CausalForestDML\n",
    "from sklearn.ensemble import RandomForestRegressor\n",
    "\n",
    "# Load the data\n",
    "data = pd.read_csv(\"C:/Users/ASUS/Documents/College/Semester V/[0. Lomba]/Stat_Day RASIO UNPAD/Final/smoking.csv\")\n",
    "\n",
    "# Preprocessing: Label encoding for categorical variables\n",
    "data['Sex'] = data['Sex'].map({'Male': 1, 'Female': 0})\n",
    "data['CigRes'] = data['CigRes'].map({'Yes': 1, 'No': 0})\n",
    "\n",
    "# Define the features\n",
    "X = data[['YoS', 'Age', 'Sex']]  # Covariates (confounders)\n",
    "T = data['CigCon']  # Treatment (cigarette consumption)\n",
    "Y = data['Linc']  # Outcome (income)\n",
    "W = data[['LCigPri', 'CigRes']]  # Confounder (assumed)\n",
    "\n",
    "# Number of folds for cross-validation\n",
    "n_splits = 30\n",
    "kf = KFold(n_splits=n_splits, shuffle=True, random_state=42)\n",
    "\n",
    "# Store scores for each model\n",
    "scores = {\n",
    "    'LinearDML': [],\n",
    "    'SparseLinearDML': [],\n",
    "    'CausalForestDML': []\n",
    "}\n",
    "\n",
    "# Cross-validation loop\n",
    "for train_index, test_index in kf.split(X):\n",
    "    # Split the data into train and test sets\n",
    "    X_train, X_test = X.iloc[train_index], X.iloc[test_index]\n",
    "    T_train, T_test = T.iloc[train_index], T.iloc[test_index]\n",
    "    Y_train, Y_test = Y.iloc[train_index], Y.iloc[test_index]\n",
    "    W_train, W_test = W.iloc[train_index], W.iloc[test_index]\n",
    "\n",
    "    # Initialize models\n",
    "    est = LinearDML(model_y=RandomForestRegressor(),\n",
    "                    model_t=RandomForestRegressor(),\n",
    "                    random_state=123)\n",
    "    est1 = SparseLinearDML(model_y=RandomForestRegressor(),\n",
    "                            model_t=RandomForestRegressor(),\n",
    "                            random_state=123)\n",
    "    est2 = CausalForestDML(model_y=RandomForestRegressor(),\n",
    "                            model_t=RandomForestRegressor(),\n",
    "                            criterion='mse', n_estimators=1000,\n",
    "                            min_impurity_decrease=0.001,\n",
    "                            discrete_treatment=False,\n",
    "                            random_state=123)\n",
    "\n",
    "    # Fit models\n",
    "    est.fit(Y_train, T_train, X=X_train, W=W_train)\n",
    "    est1.fit(Y_train, T_train, X=X_train, W=W_train)\n",
    "    est2.fit(Y_train, T_train, X=X_train, W=W_train)\n",
    "\n",
    "    # Evaluate models\n",
    "    scores['LinearDML'].append(np.sqrt(est.score(Y_test, T_test, X=X_test, W=W_test)))\n",
    "    scores['SparseLinearDML'].append(np.sqrt(est1.score(Y_test, T_test, X=X_test, W=W_test)))\n",
    "    scores['CausalForestDML'].append(np.sqrt(est2.score(Y_test, T_test, X=X_test, W=W_test)))\n",
    "\n",
    "# Calculate mean and standard deviation of scores\n",
    "mean_scores = {model: np.mean(score) for model, score in scores.items()}\n",
    "std_scores = {model: np.std(score) for model, score in scores.items()}\n",
    "\n",
    "# Display results\n",
    "print(\"Mean Scores:\", mean_scores)\n",
    "print(\"Standard Deviation of Scores:\", std_scores)\n"
   ]
  },
  {
   "cell_type": "code",
   "execution_count": 367,
   "metadata": {},
   "outputs": [
    {
     "name": "stdout",
     "output_type": "stream",
     "text": [
      "Model: LinearDML, p-value: 0.2604547142982483\n",
      "Model: SparseLinearDML, p-value: 0.5342397689819336\n",
      "Model: CausalForestDML, p-value: 0.5402418375015259\n"
     ]
    }
   ],
   "source": [
    "# Normality Test of RMSE for each model\n",
    "from scipy.stats import shapiro\n",
    "\n",
    "# Normality test\n",
    "for model, score in scores.items():\n",
    "    stat, p = shapiro(score)\n",
    "    print(f\"Model: {model}, p-value: {p}\")\n"
   ]
  },
  {
   "cell_type": "code",
   "execution_count": 371,
   "metadata": {},
   "outputs": [
    {
     "name": "stdout",
     "output_type": "stream",
     "text": [
      "ANOVA Test:\n",
      "Statistic: 0.6464235210495827\n",
      "p-value: 0.5264138688525335\n",
      "Fail to reject the null hypothesis. There is no significant difference between the models.\n"
     ]
    }
   ],
   "source": [
    "# ANOVA Test two way, for RMSE and Standard Deviation\n",
    "from scipy.stats import f_oneway\n",
    "\n",
    "# ANOVA test\n",
    "stat, p = f_oneway(scores['LinearDML'], scores['SparseLinearDML'], scores['CausalForestDML'])\n",
    "print(\"ANOVA Test:\")\n",
    "print(\"Statistic:\", stat)\n",
    "print(\"p-value:\", p)\n",
    "\n",
    "if p < 0.05:\n",
    "    print(\"Reject the null hypothesis. There is a significant difference between the models.\")\n",
    "else:\n",
    "    print(\"Fail to reject the null hypothesis. There is no significant difference between the models.\")"
   ]
  },
  {
   "cell_type": "code",
   "execution_count": 369,
   "metadata": {},
   "outputs": [
    {
     "name": "stdout",
     "output_type": "stream",
     "text": [
      "         Multiple Comparison of Means - Tukey HSD, FWER=0.05         \n",
      "=====================================================================\n",
      "     group1          group2     meandiff p-adj   lower  upper  reject\n",
      "---------------------------------------------------------------------\n",
      "CausalForestDML       LinearDML  -0.0099 0.9334 -0.0763 0.0566  False\n",
      "CausalForestDML SparseLinearDML   0.0211 0.7291 -0.0453 0.0875  False\n",
      "      LinearDML SparseLinearDML    0.031 0.5089 -0.0354 0.0974  False\n",
      "---------------------------------------------------------------------\n"
     ]
    },
    {
     "data": {
      "image/png": "[encoded data removed]",
      "text/plain": [
       "<Figure size 1000x600 with 1 Axes>"
      ]
     },
     "metadata": {},
     "output_type": "display_data"
    }
   ],
   "source": [
    "# Post-hoc Test\n",
    "from statsmodels.stats.multicomp import pairwise_tukeyhsd\n",
    "\n",
    "# Prepare data for post-hoc test\n",
    "data = pd.DataFrame({\n",
    "    'score': scores['LinearDML'] + scores['SparseLinearDML'] + scores['CausalForestDML'],\n",
    "    'model': ['LinearDML'] * n_splits + ['SparseLinearDML'] * n_splits + ['CausalForestDML'] * n_splits\n",
    "})\n",
    "\n",
    "# Post-hoc test\n",
    "posthoc = pairwise_tukeyhsd(data['score'], data['model'], alpha=0.05)\n",
    "print(posthoc)\n",
    "\n",
    "# Plot the results\n",
    "posthoc.plot_simultaneous()\n",
    "plt.show()"
   ]
  },
  {
   "cell_type": "code",
   "execution_count": 434,
   "metadata": {},
   "outputs": [
    {
     "name": "stdout",
     "output_type": "stream",
     "text": [
      "Levene's Test:\n",
      "Statistic: 0.09649973997680622\n",
      "p-value: 0.9081071858716512\n",
      "Fail to reject the null hypothesis. The variance is equal between the models.\n"
     ]
    }
   ],
   "source": [
    "# Homogeneity of Variance Test\n",
    "from scipy.stats import levene\n",
    "\n",
    "# Levene's test\n",
    "stat, p = levene(scores['LinearDML'], scores['SparseLinearDML'], scores['CausalForestDML'])\n",
    "print(\"Levene's Test:\")\n",
    "print(\"Statistic:\", stat)\n",
    "print(\"p-value:\", p)\n",
    "\n",
    "if p < 0.05:\n",
    "    print(\"Reject the null hypothesis. The variance is not equal between the models.\")\n",
    "else:\n",
    "    print(\"Fail to reject the null hypothesis. The variance is equal between the models.\")"
   ]
  }
 ],
 "metadata": {
  "kernelspec": {
   "display_name": "base",
   "language": "python",
   "name": "python3"
  },
  "language_info": {
   "codemirror_mode": {
    "name": "ipython",
    "version": 3
   },
   "file_extension": ".py",
   "mimetype": "text/x-python",
   "name": "python",
   "nbconvert_exporter": "python",
   "pygments_lexer": "ipython3",
   "version": "3.11.5"
  },
  "polyglot_notebook": {
   "kernelInfo": {
    "defaultKernelName": "csharp",
    "items": [
     {
      "aliases": [],
      "name": "csharp"
     }
    ]
   }
  }
 },
 "nbformat": 4,
 "nbformat_minor": 2
}
